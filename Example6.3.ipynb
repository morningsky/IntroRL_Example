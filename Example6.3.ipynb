{
 "cells": [
  {
   "cell_type": "markdown",
   "metadata": {},
   "source": [
    "## 批量更新 TD 与 MC\n",
    "### Example 6.3 with Figure 6.2\n",
    "### 随机游走"
   ]
  },
  {
   "cell_type": "code",
   "execution_count": 3,
   "metadata": {},
   "outputs": [],
   "source": [
    "import numpy as np\n",
    "import random\n",
    "from gridworld import RandomWalk\n",
    "from tqdm import tqdm\n",
    "\n",
    "\n",
    "import matplotlib\n",
    "import matplotlib.pyplot as plt\n",
    "matplotlib.style.use('ggplot')\n",
    "%matplotlib inline        "
   ]
  },
  {
   "cell_type": "code",
   "execution_count": 30,
   "metadata": {},
   "outputs": [],
   "source": [
    "'''\n",
    "    以下内容与Example 6.2一样\n",
    "'''\n",
    "TRUE_VALUE = np.zeros(7)\n",
    "TRUE_VALUE[1:6] = np.arange(1, 6) / 6.0\n",
    "TRUE_VALUE[6] = 1  \n",
    "\n",
    "VALUES = np.ones(7)*0.5 #初始化近似价值函数 0，0.5...0.5,1\n",
    "VALUES[0] = 0\n",
    "VALUES[6] = 1\n",
    "\n",
    "def temporal_difference(env, V, alpha=0.1, discount_factor=1.0, batch=False): #alpha步长\n",
    "    s = env.reset() #从中间开始\n",
    "    trajectory = [s]\n",
    "    rewards = [0]\n",
    "    while True:\n",
    "        a = env.action_space.sample() #policy： 向左 向右 均匀概率采样\n",
    "        s_, r, done, info =  env.step(a)\n",
    "        r = 0  #不明白为什么 只有假设所有的reward=0 才能复现书上的结果。。。\n",
    "        trajectory.append(s_)\n",
    "        if not batch:\n",
    "            #TD update\n",
    "            V[s] += alpha * (r + discount_factor * V[s_] - V[s] )\n",
    "            \n",
    "        if done:\n",
    "            break\n",
    "        rewards.append(r)\n",
    "        s = s_  \n",
    "    return trajectory, rewards     \n",
    "        \n",
    "        \n",
    "def monte_carlo(env, V, alpha=0.1, batch=False):\n",
    "    s = env.reset()\n",
    "    trajectory = [s]\n",
    "    while True:\n",
    "        a = env.action_space.sample() \n",
    "        s_, r, done, info = env.step(a)\n",
    "        trajectory.append(s_)\n",
    "        if done:\n",
    "            G = r #每个epsido结束之后的最终rewar作为累积回报G\n",
    "            break\n",
    "            \n",
    "    if not batch:\n",
    "        for s in trajectory[:-1]: #终止态不进入计算\n",
    "            #MC update\n",
    "            V[s] += alpha * (G - V[s])\n",
    "    return trajectory, [G] * (len(trajectory)-1)\n",
    "    "
   ]
  },
  {
   "cell_type": "code",
   "execution_count": 6,
   "metadata": {},
   "outputs": [],
   "source": [
    "env = RandomWalk()\n",
    "s = env.reset()\n",
    "trajectory = [s]\n",
    "while True:\n",
    "    a = env.action_space.sample() \n",
    "    s_, r, done, info = env.step(a)\n",
    "    trajectory.append(s_)\n",
    "    if done:\n",
    "        returns = r #每个epsido结束之后的最终rewar作为累积回报G\n",
    "        break"
   ]
  },
  {
   "cell_type": "code",
   "execution_count": 31,
   "metadata": {},
   "outputs": [],
   "source": [
    "def batch_updating(method, episodes, alpha=0.001, discount_factor=1.0):\n",
    "    # perform 100 independent runs\n",
    "    runs = 100\n",
    "    env = RandomWalk()\n",
    "\n",
    "    total_errors = np.zeros(episodes)\n",
    "    for r in tqdm(range(0, runs)):\n",
    "        current_values = np.copy(VALUES)\n",
    "        errors = []\n",
    "        # track shown trajectories and reward/return sequences\n",
    "        trajectories = []\n",
    "        rewards = []\n",
    "        for ep in range(episodes):\n",
    "            if method == 'TD':\n",
    "                trajectory_, rewards_ = temporal_difference(env, current_values, batch=True)\n",
    "            else:\n",
    "                trajectory_, rewards_ = monte_carlo(env, current_values, batch=True)\n",
    "            trajectories.append(trajectory_)\n",
    "            rewards.append(rewards_)\n",
    "            while True:\n",
    "                # keep feeding our algorithm with trajectories seen so far until state value function converges\n",
    "                updates = np.zeros(7)\n",
    "                for trajectory_, rewards_ in zip(trajectories, rewards):\n",
    "                    for i in range(0, len(trajectory_) - 1):\n",
    "                        if method == 'TD': #Batch TD update\n",
    "                            updates[trajectory_[i]] += rewards_[i] + discount_factor*current_values[trajectory_[i + 1]] - current_values[trajectory_[i]]\n",
    "                        else: #Batch MC update\n",
    "                            updates[trajectory_[i]] += rewards_[i] - current_values[trajectory_[i]]\n",
    "                updates *= alpha\n",
    "                if np.sum(np.abs(updates)) < 1e-3:\n",
    "                    break\n",
    "                # perform batch updating\n",
    "                current_values += updates\n",
    "            # calculate rms error\n",
    "            errors.append(np.sqrt(np.sum(np.power(current_values - TRUE_VALUE, 2)) / 5.0))\n",
    "        total_errors += np.asarray(errors)\n",
    "    total_errors /= runs\n",
    "    return total_errors"
   ]
  },
  {
   "cell_type": "code",
   "execution_count": 32,
   "metadata": {},
   "outputs": [
    {
     "name": "stderr",
     "output_type": "stream",
     "text": [
      "100%|██████████| 100/100 [00:39<00:00,  2.41it/s]\n",
      "100%|██████████| 100/100 [00:37<00:00,  2.63it/s]\n",
      "/Users/lmc/anaconda3/lib/python3.7/site-packages/matplotlib/figure.py:445: UserWarning: Matplotlib is currently using agg, which is a non-GUI backend, so cannot show the figure.\n",
      "  % get_backend())\n"
     ]
    },
    {
     "data": {
      "image/png": "[encoded data removed]",
      "text/plain": [
       "<Figure size 432x288 with 1 Axes>"
      ]
     },
     "metadata": {
      "needs_background": "light"
     },
     "output_type": "display_data"
    }
   ],
   "source": [
    "episodes = 100 + 1\n",
    "td_erros = batch_updating('TD', episodes)\n",
    "mc_erros = batch_updating('MC', episodes)\n",
    "\n",
    "plt.plot(td_erros, label='TD')\n",
    "plt.plot(mc_erros, label='MC')\n",
    "plt.xlabel('episodes')\n",
    "plt.ylabel('RMS error')\n",
    "plt.legend()\n",
    "\n",
    "plt.show()\n",
    "#plt.savefig('../images/figure_6_2.png')\n",
    "#plt.close()"
   ]
  },
  {
   "cell_type": "code",
   "execution_count": 40,
   "metadata": {},
   "outputs": [],
   "source": [
    "\n",
    "plt.plot(td_erros, label='TD')\n",
    "plt.plot(mc_erros, label='MC')\n",
    "plt.xlabel('episodes')\n",
    "plt.ylabel('RMS error')\n",
    "plt.legend()\n",
    "\n",
    "#plt.show()\n",
    "plt.savefig('./images/figure_6_2.png')\n",
    "plt.close()"
   ]
  }
 ],
 "metadata": {
  "kernelspec": {
   "display_name": "Python 3",
   "language": "python",
   "name": "python3"
  },
  "language_info": {
   "codemirror_mode": {
    "name": "ipython",
    "version": 3
   },
   "file_extension": ".py",
   "mimetype": "text/x-python",
   "name": "python",
   "nbconvert_exporter": "python",
   "pygments_lexer": "ipython3",
   "version": "3.7.3"
  }
 },
 "nbformat": 4,
 "nbformat_minor": 2
}
