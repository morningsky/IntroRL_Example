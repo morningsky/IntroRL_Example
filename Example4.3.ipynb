{
 "cells": [
  {
   "cell_type": "markdown",
   "metadata": {},
   "source": [
    "## 动态规划 价值迭代"
   ]
  },
  {
   "cell_type": "markdown",
   "metadata": {},
   "source": [
    "### Example 4.3 with Exercises 4.8-4.10 and Figure 4.3"
   ]
  },
  {
   "cell_type": "markdown",
   "metadata": {},
   "source": [
    "### 赌徒问题\n",
    "\n",
    "s: 赌资 0-100\n",
    "\n",
    "a: 赌注 min(赌资，100-赌资)\n",
    "\n",
    "r: 获利100美元 +1 否则为0\n",
    "\n",
    "env: 游戏规则，如果抛的硬币正面朝上，赌徒获得这一次下注的钱\n",
    "     如果抛的硬币背面朝上，则失去这一次下注的钱\n",
    "     \n",
    "policy: 赌资到赌注的映射\n",
    "\n",
    "value function: 在每个状态下赌徒获胜的概率"
   ]
  },
  {
   "cell_type": "code",
   "execution_count": 3,
   "metadata": {},
   "outputs": [],
   "source": [
    "import numpy as np\n",
    "import matplotlib.pyplot as plt\n",
    "\n",
    "\n",
    "rewards = np.zeros(101)\n",
    "rewards[100] = 1 \n",
    "\n",
    "def value_iteration(ph=0.4, theta=0.000001, discount_factor=1):\n",
    "    '''\n",
    "        value iteration : 一直迭代至收敛，获得准确的value function\n",
    "                          根据准确的value function选择最好的action\n",
    "    '''\n",
    "    V = np.zeros(101)\n",
    "    while True:\n",
    "        delta = 0\n",
    "        for s in range(1, 100):  # for each state\n",
    "            old_v = V[s]       \n",
    "            r = 0\n",
    "            \n",
    "            \n",
    "            nA = min(s, 100 - s) + 1#最大赌注动态变化\n",
    "            #print(\"nA: \", nA)\n",
    "            values = np.zeros(nA) # 投出每一个可能的赌注\n",
    "            for a in range(1, nA):\n",
    "                #print(\"a: \", a)\n",
    "                values[a] = ph * (rewards[s+a] + V[s+a]*discount_factor) + \\\n",
    "                           (1-ph) * (rewards[s-a] + V[s-a]*discount_factor)\n",
    "\n",
    "            best_a = np.max(values)\n",
    "            delta = max(delta, np.abs(best_a - old_v))\n",
    "            V[s] = best_a\n",
    "        if delta < theta:\n",
    "            break\n",
    "            \n",
    "    #value table收敛后 使用贪心策略获得policy \n",
    "    policy = np.zeros(100)\n",
    "    for s in range(1, 100):\n",
    "        nA = min(s, 100 - s) + 1\n",
    "        values = np.zeros(nA)\n",
    "        for a in range(1, nA):\n",
    "            values[a] = ph * (rewards[s+a] + V[s+a]*discount_factor) + \\\n",
    "                        (1-ph) * (rewards[s-a] + V[s-a]*discount_factor)\n",
    "        best_a = np.argmax(values) \n",
    "        policy[s] = best_a\n",
    "    return V, policy\n",
    "    \n",
    "    \n"
   ]
  },
  {
   "cell_type": "code",
   "execution_count": 81,
   "metadata": {},
   "outputs": [],
   "source": [
    "value_table, policy = value_iteration()"
   ]
  },
  {
   "cell_type": "code",
   "execution_count": 82,
   "metadata": {},
   "outputs": [
    {
     "data": {
      "image/png": "[encoded data removed]",
      "text/plain": [
       "<Figure size 432x288 with 1 Axes>"
      ]
     },
     "metadata": {
      "needs_background": "light"
     },
     "output_type": "display_data"
    }
   ],
   "source": [
    "# Plotting Final Policy (action stake) vs State (Capital)\n",
    "\n",
    "x = range(100)\n",
    "y = value_table[:100]\n",
    "plt.plot(x, y)\n",
    "plt.xlabel('Capital')\n",
    "plt.ylabel('Value Estimates')\n",
    "plt.title('Final Policy (action stake) vs State (Capital)')\n",
    "plt.show()"
   ]
  },
  {
   "cell_type": "code",
   "execution_count": 83,
   "metadata": {},
   "outputs": [
    {
     "data": {
      "image/png": "[encoded data removed]",
      "text/plain": [
       "<Figure size 432x288 with 1 Axes>"
      ]
     },
     "metadata": {
      "needs_background": "light"
     },
     "output_type": "display_data"
    }
   ],
   "source": [
    "# Plotting Capital vs Final Policy\n",
    "\n",
    "x = range(100)\n",
    "y = policy\n",
    "plt.bar(x, y, align='center', alpha=0.5)\n",
    "plt.xlabel('Capital')\n",
    "plt.ylabel('Final policy (stake)')\n",
    "plt.title('Capital vs Final Policy')\n",
    "plt.show()"
   ]
  },
  {
   "cell_type": "markdown",
   "metadata": {},
   "source": [
    "### 4.9"
   ]
  },
  {
   "cell_type": "code",
   "execution_count": 1,
   "metadata": {},
   "outputs": [],
   "source": [
    "def train(ph=0.4, Theta=0.000001):\n",
    "    V = [0]*100\n",
    "    for i in range(0, 100):\n",
    "        V[i] = np.random.random() * 1000\n",
    "    V[0] = 0\n",
    "    pi = [0]*100\n",
    "    counter = 1\n",
    "    while True:\n",
    "        Delta = 0\n",
    "        for s in range(1, 100):  # for each state\n",
    "            old_v = V[s]\n",
    "            v = [0] * 51\n",
    "            for a in range(1, min(s, 100 - s) + 1):\n",
    "                v[a] = 0\n",
    "                if a + s < 100:\n",
    "                    v[a] += ph * (0 + V[s + a])\n",
    "                    v[a] += (1 - ph) * (0 + V[s - a])\n",
    "                elif a + s == 100:\n",
    "                    v[a] += ph\n",
    "                    v[a] += (1 - ph) * (0 + V[s - a])\n",
    "            op_a = np.argmax(v)\n",
    "            pi[s] = op_a\n",
    "            V[s] = v[op_a]\n",
    "            Delta = max(Delta, abs(old_v - V[s]))\n",
    "        counter += 1\n",
    "        if counter % 1000 == 0:\n",
    "            print(\"train loop\" + str(counter))\n",
    "            print(\"Delta =\" + str(Delta))\n",
    "        if Delta < Theta:\n",
    "            break\n",
    "    return [V[1:100], pi[1:100]]\n",
    "\n"
   ]
  },
  {
   "cell_type": "code",
   "execution_count": null,
   "metadata": {},
   "outputs": [],
   "source": [
    "plt.figure(12,figsize=(13,4))\n",
    "plt.subplot(121)\n",
    "plt.xlabel('state')\n",
    "plt.ylabel('predicted total time')\n",
    "plt.title(\"MC prediction\")\n",
    "\n",
    "plt.plot(state, real_time, c='blue', marker='o')\n",
    "plt.plot(state, mc_result, c='red', marker='o', linestyle='--' )\n",
    "#plt.subplot\n",
    "\n",
    "plt.subplot(122)\n",
    "plt.xlabel('state')\n",
    "plt.ylabel('predicted total time')\n",
    "plt.title(\"TD prediction\")\n",
    "\n",
    "plt.plot(state, real_time, c='blue', marker='o')\n",
    "plt.plot(state, td_result, c='red', marker='o', linestyle='--' )\n",
    "plt.show()"
   ]
  },
  {
   "cell_type": "code",
   "execution_count": 4,
   "metadata": {},
   "outputs": [
    {
     "name": "stdout",
     "output_type": "stream",
     "text": [
      "train loop1000\n",
      "Delta =0.2710876585687174\n",
      "train loop2000\n",
      "Delta =0.01007493320310937\n",
      "train loop3000\n",
      "Delta =0.00035640158503569275\n",
      "train loop4000\n",
      "Delta =7.6022662618413506e-06\n"
     ]
    },
    {
     "data": {
      "image/png": "[encoded data removed]",
      "text/plain": [
       "<Figure size 432x288 with 1 Axes>"
      ]
     },
     "metadata": {
      "needs_background": "light"
     },
     "output_type": "display_data"
    },
    {
     "data": {
      "image/png": "[encoded data removed]",
      "text/plain": [
       "<Figure size 432x288 with 1 Axes>"
      ]
     },
     "metadata": {
      "needs_background": "light"
     },
     "output_type": "display_data"
    },
    {
     "data": {
      "image/png": "[encoded data removed]",
      "text/plain": [
       "<Figure size 432x288 with 1 Axes>"
      ]
     },
     "metadata": {
      "needs_background": "light"
     },
     "output_type": "display_data"
    },
    {
     "data": {
      "image/png": "[encoded data removed]",
      "text/plain": [
       "<Figure size 432x288 with 1 Axes>"
      ]
     },
     "metadata": {
      "needs_background": "light"
     },
     "output_type": "display_data"
    }
   ],
   "source": [
    "\n",
    "[V1, pi1] = train(ph=0.4)\n",
    "[V2, pi2] = train(ph=0.25)\n",
    "[V3, pi3] = train(ph=0.55)\n",
    "S = np.linspace(1, 99, num=99, endpoint=True)\n",
    "plt.figure(22)\n",
    "plt.subplot(221)\n",
    "plt.plot(S, V1)\n",
    "plt.plot(S, V2)\n",
    "plt.plot(S, V3)\n",
    "#plt.show()\n",
    "plt.subplot(222)\n",
    "plt.figure()\n",
    "plt.bar(S, pi1)\n",
    "#plt.show()\n",
    "#plt.figure()\n",
    "plt.subplot(223)\n",
    "plt.bar(S, pi2)\n",
    "#plt.show()\n",
    "#plt.figure()\n",
    "plt.subplot(224)\n",
    "plt.bar(S, pi3)\n",
    "plt.show()"
   ]
  },
  {
   "cell_type": "code",
   "execution_count": 6,
   "metadata": {},
   "outputs": [
    {
     "data": {
      "image/png": "[encoded data removed]",
      "text/plain": [
       "<Figure size 432x288 with 4 Axes>"
      ]
     },
     "metadata": {
      "needs_background": "light"
     },
     "output_type": "display_data"
    }
   ],
   "source": [
    "plt.figure(22)\n",
    "plt.subplot(221)\n",
    "plt.plot(S, V1)\n",
    "plt.plot(S, V2)\n",
    "plt.plot(S, V3)\n",
    "#plt.show()\n",
    "plt.subplot(222)\n",
    "#plt.figure()\n",
    "plt.bar(S, pi1)\n",
    "#plt.show()\n",
    "#plt.figure()\n",
    "plt.subplot(223)\n",
    "plt.bar(S, pi2)\n",
    "#plt.show()\n",
    "#plt.figure()\n",
    "plt.subplot(224)\n",
    "plt.bar(S, pi3)\n",
    "plt.show()"
   ]
  },
  {
   "cell_type": "code",
   "execution_count": 85,
   "metadata": {},
   "outputs": [],
   "source": [
    "#基于gym的模拟环境 \n",
    "#由于 action空间动态变化 不方便在其之上使用DP算法\n",
    "\n",
    "import gym\n",
    "import numpy as np\n",
    "\n",
    "class GamberEnv(gym.Env):\n",
    "    def __init__(self):\n",
    "        self.state = 100 #赌资\n",
    "        self.pool = 0   #赌注  \n",
    "        self.profit = 0 #回报\n",
    "        self.ph = 0.4 #正面朝上的概率\n",
    "\n",
    "    def step(self, a): \n",
    "        r = 0\n",
    "        done = False\n",
    "        \n",
    "        if np.random.random() < self.ph: \n",
    "            self.profit += a   #正面朝上 赢得赌注\n",
    "        else:\n",
    "            self.profit -= a #反面朝上 输\n",
    "            \n",
    "        if self.profit == 100 : #完成目标\n",
    "            r = 1\n",
    "            done = True\n",
    "            \n",
    "        self.state += self.profit \n",
    "        \n",
    "        if self.state<0: #输光了\n",
    "            done = True\n",
    "            \n",
    "        info = {\"current money\": self.state, \"profit\": self.profit}\n",
    "        return self.state, r, done, info\n",
    "    \n",
    "    def reset():\n",
    "        self.state = 100\n",
    "        return self.state\n",
    "        \n",
    "        "
   ]
  }
 ],
 "metadata": {
  "kernelspec": {
   "display_name": "Python 3",
   "language": "python",
   "name": "python3"
  },
  "language_info": {
   "codemirror_mode": {
    "name": "ipython",
    "version": 3
   },
   "file_extension": ".py",
   "mimetype": "text/x-python",
   "name": "python",
   "nbconvert_exporter": "python",
   "pygments_lexer": "ipython3",
   "version": "3.7.3"
  }
 },
 "nbformat": 4,
 "nbformat_minor": 2
}
